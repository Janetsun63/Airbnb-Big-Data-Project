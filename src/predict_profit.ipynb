{
 "cells": [
  {
   "cell_type": "markdown",
   "id": "542509a3",
   "metadata": {},
   "source": [
    "# Predict Maximum Expected Monthly Profit"
   ]
  },
  {
   "cell_type": "code",
   "execution_count": 1,
   "id": "3e50bfb3",
   "metadata": {},
   "outputs": [],
   "source": [
    "import sys\n",
    "import numpy as np\n",
    "import pandas as pd\n",
    "import matplotlib.pyplot as plt\n",
    "import seaborn as sns\n",
    "from geopy.geocoders import Nominatim\n",
    "from geopy.extra.rate_limiter import RateLimiter\n",
    "from pyspark.sql import SparkSession, functions, types, Row\n",
    "from pyspark.ml import PipelineModel\n",
    "from pyspark.ml.evaluation import RegressionEvaluator\n",
    "assert sys.version_info >= (3, 5)   # make sure we have Python 3.5+"
   ]
  },
  {
   "cell_type": "code",
   "execution_count": 2,
   "id": "1aae79a7",
   "metadata": {},
   "outputs": [
    {
     "name": "stderr",
     "output_type": "stream",
     "text": [
      "WARNING: An illegal reflective access operation has occurred\n",
      "WARNING: Illegal reflective access by org.apache.spark.unsafe.Platform (file:/home/spark/spark-3.1.2-bin-hadoop3.2/jars/spark-unsafe_2.12-3.1.2.jar) to constructor java.nio.DirectByteBuffer(long,int)\n",
      "WARNING: Please consider reporting this to the maintainers of org.apache.spark.unsafe.Platform\n",
      "WARNING: Use --illegal-access=warn to enable warnings of further illegal reflective access operations\n",
      "WARNING: All illegal access operations will be denied in a future release\n",
      "21/12/10 23:42:54 WARN NativeCodeLoader: Unable to load native-hadoop library for your platform... using builtin-java classes where applicable\n",
      "Using Spark's default log4j profile: org/apache/spark/log4j-defaults.properties\n",
      "Setting default log level to \"WARN\".\n",
      "To adjust logging level use sc.setLogLevel(newLevel). For SparkR, use setLogLevel(newLevel).\n"
     ]
    }
   ],
   "source": [
    "spark = SparkSession.builder.appName('Make predictions').getOrCreate()\n",
    "assert spark.version >= '3.0'   # make sure we have Spark 3.0+\n",
    "spark.sparkContext.setLogLevel('WARN')\n",
    "sc = spark.sparkContext"
   ]
  },
  {
   "cell_type": "code",
   "execution_count": 3,
   "id": "a5c50159",
   "metadata": {},
   "outputs": [],
   "source": [
    "sns.set()"
   ]
  },
  {
   "cell_type": "code",
   "execution_count": 4,
   "id": "4bcdaba8",
   "metadata": {},
   "outputs": [],
   "source": [
    "# Geocoder: Convert address to lat-lon pair\n",
    "geocoder = Nominatim(user_agent = 'app_name')\n",
    "geocode = RateLimiter(\n",
    "    geocoder.geocode, \n",
    "    min_delay_seconds = 1, \n",
    "    return_value_on_exception = None\n",
    ")"
   ]
  },
  {
   "cell_type": "markdown",
   "id": "d8e14a75",
   "metadata": {},
   "source": [
    "## Load externel models and datasets"
   ]
  },
  {
   "cell_type": "code",
   "execution_count": 5,
   "id": "c7bc79fb",
   "metadata": {},
   "outputs": [],
   "source": [
    "# Locations of model and needed dataset\n",
    "model_path = '../models/predict_price_GLM'\n",
    "osm_feature_data_path = '../datasets/osm_features/'"
   ]
  },
  {
   "cell_type": "code",
   "execution_count": 6,
   "id": "f8bd10e9",
   "metadata": {},
   "outputs": [
    {
     "data": {
      "text/plain": [
       "DataFrame[osm_id: bigint, lat_1: double, lon_1: double, category: string, name: string]"
      ]
     },
     "execution_count": 6,
     "metadata": {},
     "output_type": "execute_result"
    }
   ],
   "source": [
    "# Load OSM data\n",
    "osm_feature = spark.read.json(\n",
    "    osm_feature_data_path, \n",
    "    schema = types.StructType([\n",
    "        types.StructField('osm_id', types.LongType(), nullable = False), \n",
    "        types.StructField('lat', types.DoubleType(), nullable = False), \n",
    "        types.StructField('lon', types.DoubleType(), nullable = False), \n",
    "        types.StructField('category', types.StringType(), nullable = False), \n",
    "        types.StructField('name', types.StringType(), nullable = False)\n",
    "    ])\n",
    ")\n",
    "# Modify column names and cache data\n",
    "osm_feature = osm_feature.withColumn('lat_1', osm_feature['lat'])\n",
    "osm_feature = osm_feature.withColumn('lon_1', osm_feature['lon'])\n",
    "osm_feature = osm_feature[['osm_id', 'lat_1', 'lon_1', 'category', 'name']]\n",
    "osm_feature.cache()"
   ]
  },
  {
   "cell_type": "code",
   "execution_count": 7,
   "id": "14f46927",
   "metadata": {},
   "outputs": [
    {
     "name": "stderr",
     "output_type": "stream",
     "text": [
      "                                                                                \r"
     ]
    }
   ],
   "source": [
    "# Load price prediction model\n",
    "model = PipelineModel.load(model_path)"
   ]
  },
  {
   "cell_type": "markdown",
   "id": "9d900da7",
   "metadata": {},
   "source": [
    "## Utility functions"
   ]
  },
  {
   "cell_type": "code",
   "execution_count": 8,
   "id": "c64b3d02",
   "metadata": {},
   "outputs": [],
   "source": [
    "\"\"\"\n",
    "Compute distance between any two lat-lon pairs\n",
    "Reference: https://stackoverflow.com/questions/639695/how-to-convert-latitude-or-longitude-to-meters\n",
    "\"\"\"\n",
    "def cal_pairwise_dist(lat_lon_paris):\n",
    "\n",
    "    # An UDF that converts degrees to radians\n",
    "    @functions.udf(returnType = types.DoubleType())\n",
    "    def deg2Rad(deg):\n",
    "        return deg * (np.pi / 180)\n",
    "\n",
    "    # Radius of Earth in meters\n",
    "    R = 6378137\n",
    "\n",
    "    distances = lat_lon_paris.select(\n",
    "        lat_lon_paris['lat_1'], \n",
    "        lat_lon_paris['lon_1'], \n",
    "        lat_lon_paris['category'], \n",
    "        lat_lon_paris['dummy_id'], \n",
    "        lat_lon_paris['lat_2'], \n",
    "        lat_lon_paris['lon_2'], \n",
    "        (deg2Rad(lat_lon_paris['lat_1']) - deg2Rad(lat_lon_paris['lat_2'])).alias('dlat'), \n",
    "        (deg2Rad(lat_lon_paris['lon_1']) - deg2Rad(lat_lon_paris['lon_2'])).alias('dlon')\n",
    "    )\n",
    "\n",
    "    distances = distances.withColumn(\n",
    "        'a', \n",
    "        functions.sin(distances['dlat'] / 2) ** 2 \\\n",
    "        + functions.cos(deg2Rad(distances['lat_1'])) \\\n",
    "            * functions.cos(deg2Rad(distances['lat_2'])) \\\n",
    "            * functions.sin(distances['dlon'] / 2) ** 2\n",
    "    )\n",
    "\n",
    "    distances = distances.withColumn(\n",
    "        'dist', \n",
    "        2 * R * functions.atan2(\n",
    "            functions.sqrt(distances['a']), \n",
    "            functions.sqrt(1 - distances['a'])\n",
    "        )\n",
    "    )\n",
    "\n",
    "    distances.cache()\n",
    "\n",
    "    num_bus_2km = distances.select('dummy_id', 'dist') \\\n",
    "        .where((distances['category'] == 'bus') & (distances['dist'] <= 2000.0)) \\\n",
    "        .groupby('dummy_id').agg(functions.count('dist').alias('num_bus_2km'))\n",
    "\n",
    "    num_subway_2km = distances.select('dummy_id', 'dist') \\\n",
    "        .where((distances['category'] == 'subway') & (distances['dist'] <= 2000.0)) \\\n",
    "        .groupby('dummy_id').agg(functions.count('dist').alias('num_subway_2km'))\n",
    "\n",
    "    shops = distances.select('dummy_id', 'dist') \\\n",
    "        .where((distances['category'] == 'shopping') & (distances['dist'] <= 5000.0)) \\\n",
    "        .groupby('dummy_id').agg(\n",
    "            functions.count('dist').alias('num_shop_2km'), \n",
    "            functions.min('dist').alias('nearest_shop(m)')\n",
    "\n",
    "        )\n",
    "\n",
    "    num_restaurant_2km = distances.select('dummy_id', 'dist') \\\n",
    "        .where((distances['category'] == 'restaurant') & (distances['dist'] <= 2000.0)) \\\n",
    "        .groupby('dummy_id').agg(functions.count('dist').alias('num_restaurant_2km'))\n",
    "\n",
    "    # Result table\n",
    "    res_table = num_bus_2km.join(num_subway_2km, on = ['dummy_id']) \\\n",
    "        .join(shops, on = ['dummy_id']) \\\n",
    "        .join(num_restaurant_2km, on = ['dummy_id'])\n",
    "\n",
    "    return res_table"
   ]
  },
  {
   "cell_type": "code",
   "execution_count": 9,
   "id": "ec1558c9",
   "metadata": {},
   "outputs": [],
   "source": [
    "\"\"\"\n",
    "get_prediction_api(dict):\n",
    "    Input: param: dict\n",
    "    param = {\n",
    "        'address': str, \n",
    "        'postcode': str, \n",
    "        'house_start_date': str/int\n",
    "        'neighbourhood_cleansed': str, \n",
    "        'room_type': str, \n",
    "        'accommodates': int, \n",
    "        'baths': int,  \n",
    "        'beds': int, \n",
    "        'amenities': int\n",
    "    }\n",
    "\n",
    "    Return: Pandas Dataframe\n",
    "    | 'price' | 'future_occupancy' | 'profit' |\n",
    "\"\"\"\n",
    "def get_prediction_api(param: dict):\n",
    "\n",
    "    location = geocode(param['address'])\n",
    "    if not location:\n",
    "        return pd.DataFrame({'price': [], 'future_occupancy': [], 'profit': []})\n",
    "    lat, lon = location.latitude, location.longitude\n",
    "\n",
    "    lat_lon_paris = osm_feature.join(spark.createDataFrame([{\n",
    "        'dummy_id': 'dummy_id', \n",
    "        'lat_2': lat, \n",
    "        'lon_2': lon\n",
    "    }]))\n",
    "    dist = cal_pairwise_dist(lat_lon_paris)\n",
    "    dist.cache()\n",
    "\n",
    "    param_df = spark.createDataFrame([{\n",
    "        'latitude': lat, \n",
    "        'longitude': lon, \n",
    "        'num_bus_2km': dist.head(1)[0]['num_bus_2km'], \n",
    "        'num_subway_2km': dist.head(1)[0]['num_subway_2km'], \n",
    "        'num_shop_2km': dist.head(1)[0]['num_shop_2km'], \n",
    "        'nearest_shop(m)': dist.head(1)[0]['nearest_shop(m)'], \n",
    "        'num_restaurant_2km': dist.head(1)[0]['num_restaurant_2km'], \n",
    "        'neighbourhood_cleansed': param['neighbourhood_cleansed'], \n",
    "        'room_type': param['room_type'], \n",
    "        'accommodates': param['accommodates'], \n",
    "        'baths': param['baths'], \n",
    "        'beds': param['beds'], \n",
    "        'days': param['house_start_date'], \n",
    "        'amenities': param['amenities']\n",
    "    }])\n",
    "\n",
    "    occupancy = spark.createDataFrame(\n",
    "        pd.DataFrame(\n",
    "            np.arange(1, 1001) / 1000, \n",
    "            columns = ['future_occupancy']\n",
    "        )\n",
    "    )\n",
    "\n",
    "    input_features = occupancy.join(param_df)\n",
    "    # input_features.show()\n",
    "\n",
    "    predictions = model.transform(input_features)\n",
    "\n",
    "    # 1000 values, small enough to proceed with Pandas\n",
    "    pd_pred = predictions[['future_occupancy', 'prediction']].toPandas()\n",
    "\n",
    "    # Transform log_price to price and cast to int\n",
    "    pd_pred['price'] = np.exp(pd_pred['prediction']).astype(int)\n",
    "\n",
    "    # Infer data for missing price range\n",
    "    missing = pd.DataFrame({\n",
    "        'price': np.arange(0, pd_pred['price'].min() + 1), \n",
    "        'future_occupancy': 1.0\n",
    "    })\n",
    "\n",
    "    pd_pred = pd.concat([missing, pd_pred], axis = 0).reset_index(drop = True)\n",
    "\n",
    "    # Merge data points with the same price\n",
    "    pd_pred = pd_pred[['price', 'future_occupancy']].groupby('price').agg('mean').reset_index()\n",
    "\n",
    "    # Compute profit\n",
    "    pd_pred['profit'] = pd_pred['price'] * pd_pred['future_occupancy'] * 30\n",
    "\n",
    "    return pd_pred"
   ]
  },
  {
   "cell_type": "markdown",
   "id": "0a1e9b26",
   "metadata": {},
   "source": [
    "## Prediction"
   ]
  },
  {
   "cell_type": "code",
   "execution_count": 10,
   "id": "f777de5d",
   "metadata": {},
   "outputs": [],
   "source": [
    "# Modify the input data here\n",
    "input_data = {\n",
    "    'address': 'Mainland St, Yaletown', \n",
    "    'postcode': 'V6B 5P2', \n",
    "    'house_start_date': 1500, \n",
    "    'neighbourhood_cleansed': 'Downtown', \n",
    "    'room_type': 'Entire home/apt', \n",
    "    'accommodates': 2, \n",
    "    'baths': 1, \n",
    "    'beds': 2, \n",
    "    'amenities': 15\n",
    "}"
   ]
  },
  {
   "cell_type": "code",
   "execution_count": 11,
   "id": "0f72528d",
   "metadata": {},
   "outputs": [
    {
     "name": "stderr",
     "output_type": "stream",
     "text": [
      "21/12/10 23:43:37 WARN package: Truncated the string representation of a plan since it was too large. This behavior can be adjusted by setting 'spark.sql.debug.maxToStringFields'.\n",
      "21/12/10 23:43:38 WARN BLAS: Failed to load implementation from: com.github.fommil.netlib.NativeSystemBLAS\n",
      "21/12/10 23:43:38 WARN BLAS: Failed to load implementation from: com.github.fommil.netlib.NativeRefBLAS\n",
      "                                                                                \r"
     ]
    }
   ],
   "source": [
    "# Get predictions\n",
    "pd_pred = get_prediction_api(input_data)"
   ]
  },
  {
   "cell_type": "code",
   "execution_count": 12,
   "id": "540a8bba",
   "metadata": {},
   "outputs": [
    {
     "data": {
      "text/html": [
       "<div>\n",
       "<style scoped>\n",
       "    .dataframe tbody tr th:only-of-type {\n",
       "        vertical-align: middle;\n",
       "    }\n",
       "\n",
       "    .dataframe tbody tr th {\n",
       "        vertical-align: top;\n",
       "    }\n",
       "\n",
       "    .dataframe thead th {\n",
       "        text-align: right;\n",
       "    }\n",
       "</style>\n",
       "<table border=\"1\" class=\"dataframe\">\n",
       "  <thead>\n",
       "    <tr style=\"text-align: right;\">\n",
       "      <th></th>\n",
       "      <th>price</th>\n",
       "      <th>future_occupancy</th>\n",
       "      <th>profit</th>\n",
       "    </tr>\n",
       "  </thead>\n",
       "  <tbody>\n",
       "    <tr>\n",
       "      <th>127</th>\n",
       "      <td>127</td>\n",
       "      <td>1.0</td>\n",
       "      <td>3810.0</td>\n",
       "    </tr>\n",
       "  </tbody>\n",
       "</table>\n",
       "</div>"
      ],
      "text/plain": [
       "     price  future_occupancy  profit\n",
       "127    127               1.0  3810.0"
      ]
     },
     "execution_count": 12,
     "metadata": {},
     "output_type": "execute_result"
    }
   ],
   "source": [
    "# Optimal price\n",
    "pd_pred[pd_pred['profit'] == pd_pred['profit'].max()]"
   ]
  },
  {
   "cell_type": "code",
   "execution_count": 13,
   "id": "61d74f71",
   "metadata": {},
   "outputs": [
    {
     "data": {
      "image/png": "[encoded data removed]",
      "text/plain": [
       "<Figure size 576x432 with 1 Axes>"
      ]
     },
     "metadata": {},
     "output_type": "display_data"
    }
   ],
   "source": [
    "plt.figure(figsize = (8, 6))\n",
    "plt.scatter(\n",
    "    x = pd_pred['price'], \n",
    "    y = pd_pred['future_occupancy'], \n",
    "    marker = 'x', \n",
    "    linewidths = 1\n",
    ")\n",
    "plt.title(\"Expected occupancy rate vs. Price\", fontsize = 20)\n",
    "plt.xlabel(\"Price (USD/day)\", fontsize = 15)\n",
    "plt.ylabel(\"Expected cccupancy rate\", fontsize = 15)\n",
    "plt.show()"
   ]
  },
  {
   "cell_type": "code",
   "execution_count": 14,
   "id": "a0cfc5eb",
   "metadata": {},
   "outputs": [
    {
     "data": {
      "image/png": "[encoded data removed]",
      "text/plain": [
       "<Figure size 576x432 with 1 Axes>"
      ]
     },
     "metadata": {},
     "output_type": "display_data"
    }
   ],
   "source": [
    "plt.figure(figsize = (8, 6))\n",
    "plt.plot(\n",
    "    pd_pred['price'], \n",
    "    pd_pred['profit']\n",
    ")\n",
    "plt.title(\"Plot of expected monthly profit vs. price\", fontsize = 15)\n",
    "plt.xlabel(\"Price (USD/day)\", fontsize = 15)\n",
    "plt.ylabel(\"Expected monthly profit\", fontsize = 15)\n",
    "plt.show()"
   ]
  }
 ],
 "metadata": {
  "kernelspec": {
   "display_name": "Python 3 (ipykernel)",
   "language": "python",
   "name": "python3"
  },
  "language_info": {
   "codemirror_mode": {
    "name": "ipython",
    "version": 3
   },
   "file_extension": ".py",
   "mimetype": "text/x-python",
   "name": "python",
   "nbconvert_exporter": "python",
   "pygments_lexer": "ipython3",
   "version": "3.8.10"
  }
 },
 "nbformat": 4,
 "nbformat_minor": 5
}
